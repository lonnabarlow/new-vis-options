{
 "cells": [
  {
   "cell_type": "code",
   "execution_count": 134,
   "id": "519a1b39",
   "metadata": {},
   "outputs": [],
   "source": [
    "import pandas as pd\n",
    "import numpy as np\n",
    "import plotly.express as px\n",
    "import matplotlib.pyplot as plt\n",
    "%matplotlib inline"
   ]
  },
  {
   "cell_type": "code",
   "execution_count": 135,
   "id": "6e9b5642",
   "metadata": {},
   "outputs": [],
   "source": [
    "df = pd.read_csv('athletes.csv')"
   ]
  },
  {
   "cell_type": "code",
   "execution_count": 136,
   "id": "ce43dc81",
   "metadata": {},
   "outputs": [
    {
     "data": {
      "text/html": [
       "<div>\n",
       "<style scoped>\n",
       "    .dataframe tbody tr th:only-of-type {\n",
       "        vertical-align: middle;\n",
       "    }\n",
       "\n",
       "    .dataframe tbody tr th {\n",
       "        vertical-align: top;\n",
       "    }\n",
       "\n",
       "    .dataframe thead th {\n",
       "        text-align: right;\n",
       "    }\n",
       "</style>\n",
       "<table border=\"1\" class=\"dataframe\">\n",
       "  <thead>\n",
       "    <tr style=\"text-align: right;\">\n",
       "      <th></th>\n",
       "      <th>id</th>\n",
       "      <th>nationality</th>\n",
       "      <th>sex</th>\n",
       "      <th>date_of_birth</th>\n",
       "      <th>height</th>\n",
       "      <th>weight</th>\n",
       "      <th>sport</th>\n",
       "      <th>gold</th>\n",
       "      <th>silver</th>\n",
       "      <th>bronze</th>\n",
       "    </tr>\n",
       "  </thead>\n",
       "  <tbody>\n",
       "    <tr>\n",
       "      <th>0</th>\n",
       "      <td>736041664</td>\n",
       "      <td>ESP</td>\n",
       "      <td>male</td>\n",
       "      <td>1969-10-17</td>\n",
       "      <td>1.72</td>\n",
       "      <td>64.0</td>\n",
       "      <td>athletics</td>\n",
       "      <td>0</td>\n",
       "      <td>0</td>\n",
       "      <td>0</td>\n",
       "    </tr>\n",
       "    <tr>\n",
       "      <th>1</th>\n",
       "      <td>532037425</td>\n",
       "      <td>KOR</td>\n",
       "      <td>female</td>\n",
       "      <td>1986-09-23</td>\n",
       "      <td>1.68</td>\n",
       "      <td>56.0</td>\n",
       "      <td>fencing</td>\n",
       "      <td>0</td>\n",
       "      <td>0</td>\n",
       "      <td>0</td>\n",
       "    </tr>\n",
       "    <tr>\n",
       "      <th>2</th>\n",
       "      <td>435962603</td>\n",
       "      <td>CAN</td>\n",
       "      <td>male</td>\n",
       "      <td>1992-05-27</td>\n",
       "      <td>1.98</td>\n",
       "      <td>79.0</td>\n",
       "      <td>athletics</td>\n",
       "      <td>0</td>\n",
       "      <td>0</td>\n",
       "      <td>1</td>\n",
       "    </tr>\n",
       "    <tr>\n",
       "      <th>3</th>\n",
       "      <td>521041435</td>\n",
       "      <td>MDA</td>\n",
       "      <td>male</td>\n",
       "      <td>1991-01-02</td>\n",
       "      <td>1.83</td>\n",
       "      <td>80.0</td>\n",
       "      <td>taekwondo</td>\n",
       "      <td>0</td>\n",
       "      <td>0</td>\n",
       "      <td>0</td>\n",
       "    </tr>\n",
       "    <tr>\n",
       "      <th>4</th>\n",
       "      <td>33922579</td>\n",
       "      <td>NZL</td>\n",
       "      <td>male</td>\n",
       "      <td>1990-11-26</td>\n",
       "      <td>1.81</td>\n",
       "      <td>71.0</td>\n",
       "      <td>cycling</td>\n",
       "      <td>0</td>\n",
       "      <td>0</td>\n",
       "      <td>0</td>\n",
       "    </tr>\n",
       "  </tbody>\n",
       "</table>\n",
       "</div>"
      ],
      "text/plain": [
       "          id nationality     sex date_of_birth  height  weight      sport  \\\n",
       "0  736041664         ESP    male    1969-10-17    1.72    64.0  athletics   \n",
       "1  532037425         KOR  female    1986-09-23    1.68    56.0    fencing   \n",
       "2  435962603         CAN    male    1992-05-27    1.98    79.0  athletics   \n",
       "3  521041435         MDA    male    1991-01-02    1.83    80.0  taekwondo   \n",
       "4   33922579         NZL    male    1990-11-26    1.81    71.0    cycling   \n",
       "\n",
       "   gold  silver  bronze  \n",
       "0     0       0       0  \n",
       "1     0       0       0  \n",
       "2     0       0       1  \n",
       "3     0       0       0  \n",
       "4     0       0       0  "
      ]
     },
     "execution_count": 136,
     "metadata": {},
     "output_type": "execute_result"
    }
   ],
   "source": [
    "df.head()"
   ]
  },
  {
   "cell_type": "code",
   "execution_count": 137,
   "id": "70959de1",
   "metadata": {},
   "outputs": [
    {
     "data": {
      "text/plain": [
       "Index(['id', 'nationality', 'sex', 'date_of_birth', 'height', 'weight',\n",
       "       'sport', 'gold', 'silver', 'bronze'],\n",
       "      dtype='object')"
      ]
     },
     "execution_count": 137,
     "metadata": {},
     "output_type": "execute_result"
    }
   ],
   "source": [
    "df.columns"
   ]
  },
  {
   "cell_type": "code",
   "execution_count": 138,
   "id": "b86be253",
   "metadata": {},
   "outputs": [
    {
     "data": {
      "text/plain": [
       "id                 int64\n",
       "nationality       object\n",
       "sex               object\n",
       "date_of_birth     object\n",
       "height           float64\n",
       "weight           float64\n",
       "sport             object\n",
       "gold               int64\n",
       "silver             int64\n",
       "bronze             int64\n",
       "dtype: object"
      ]
     },
     "execution_count": 138,
     "metadata": {},
     "output_type": "execute_result"
    }
   ],
   "source": [
    "df.dtypes"
   ]
  },
  {
   "cell_type": "code",
   "execution_count": 139,
   "id": "0084a99f",
   "metadata": {},
   "outputs": [
    {
     "data": {
      "text/plain": [
       "(11538, 10)"
      ]
     },
     "execution_count": 139,
     "metadata": {},
     "output_type": "execute_result"
    }
   ],
   "source": [
    "df.shape"
   ]
  },
  {
   "cell_type": "code",
   "execution_count": 140,
   "id": "ae893f88",
   "metadata": {},
   "outputs": [],
   "source": [
    "medals=df[['gold', 'silver', 'bronze']].copy()"
   ]
  },
  {
   "cell_type": "code",
   "execution_count": 141,
   "id": "cc58c174",
   "metadata": {},
   "outputs": [
    {
     "data": {
      "text/html": [
       "<div>\n",
       "<style scoped>\n",
       "    .dataframe tbody tr th:only-of-type {\n",
       "        vertical-align: middle;\n",
       "    }\n",
       "\n",
       "    .dataframe tbody tr th {\n",
       "        vertical-align: top;\n",
       "    }\n",
       "\n",
       "    .dataframe thead th {\n",
       "        text-align: right;\n",
       "    }\n",
       "</style>\n",
       "<table border=\"1\" class=\"dataframe\">\n",
       "  <thead>\n",
       "    <tr style=\"text-align: right;\">\n",
       "      <th></th>\n",
       "      <th>gold</th>\n",
       "      <th>silver</th>\n",
       "      <th>bronze</th>\n",
       "    </tr>\n",
       "  </thead>\n",
       "  <tbody>\n",
       "    <tr>\n",
       "      <th>0</th>\n",
       "      <td>0</td>\n",
       "      <td>0</td>\n",
       "      <td>0</td>\n",
       "    </tr>\n",
       "    <tr>\n",
       "      <th>1</th>\n",
       "      <td>0</td>\n",
       "      <td>0</td>\n",
       "      <td>0</td>\n",
       "    </tr>\n",
       "    <tr>\n",
       "      <th>2</th>\n",
       "      <td>0</td>\n",
       "      <td>0</td>\n",
       "      <td>1</td>\n",
       "    </tr>\n",
       "    <tr>\n",
       "      <th>3</th>\n",
       "      <td>0</td>\n",
       "      <td>0</td>\n",
       "      <td>0</td>\n",
       "    </tr>\n",
       "    <tr>\n",
       "      <th>4</th>\n",
       "      <td>0</td>\n",
       "      <td>0</td>\n",
       "      <td>0</td>\n",
       "    </tr>\n",
       "    <tr>\n",
       "      <th>...</th>\n",
       "      <td>...</td>\n",
       "      <td>...</td>\n",
       "      <td>...</td>\n",
       "    </tr>\n",
       "    <tr>\n",
       "      <th>11533</th>\n",
       "      <td>0</td>\n",
       "      <td>0</td>\n",
       "      <td>0</td>\n",
       "    </tr>\n",
       "    <tr>\n",
       "      <th>11534</th>\n",
       "      <td>0</td>\n",
       "      <td>0</td>\n",
       "      <td>0</td>\n",
       "    </tr>\n",
       "    <tr>\n",
       "      <th>11535</th>\n",
       "      <td>0</td>\n",
       "      <td>0</td>\n",
       "      <td>0</td>\n",
       "    </tr>\n",
       "    <tr>\n",
       "      <th>11536</th>\n",
       "      <td>0</td>\n",
       "      <td>0</td>\n",
       "      <td>0</td>\n",
       "    </tr>\n",
       "    <tr>\n",
       "      <th>11537</th>\n",
       "      <td>0</td>\n",
       "      <td>0</td>\n",
       "      <td>0</td>\n",
       "    </tr>\n",
       "  </tbody>\n",
       "</table>\n",
       "<p>11538 rows × 3 columns</p>\n",
       "</div>"
      ],
      "text/plain": [
       "       gold  silver  bronze\n",
       "0         0       0       0\n",
       "1         0       0       0\n",
       "2         0       0       1\n",
       "3         0       0       0\n",
       "4         0       0       0\n",
       "...     ...     ...     ...\n",
       "11533     0       0       0\n",
       "11534     0       0       0\n",
       "11535     0       0       0\n",
       "11536     0       0       0\n",
       "11537     0       0       0\n",
       "\n",
       "[11538 rows x 3 columns]"
      ]
     },
     "execution_count": 141,
     "metadata": {},
     "output_type": "execute_result"
    }
   ],
   "source": [
    "medals"
   ]
  },
  {
   "cell_type": "code",
   "execution_count": 142,
   "id": "1fa6c6c3",
   "metadata": {},
   "outputs": [
    {
     "data": {
      "image/png": "[encoded data removed]",
      "text/plain": [
       "<Figure size 720x504 with 1 Axes>"
      ]
     },
     "metadata": {},
     "output_type": "display_data"
    }
   ],
   "source": [
    "# Creating dataset\n",
    "data = ['gold', 'silver', 'bronze']\n",
    "new_chart=[medals['gold'].sum(), medals['silver'].sum(), medals['bronze'].sum()] \n",
    "\n",
    "new_chart\n",
    " \n",
    "# Creating plot\n",
    "fig = plt.figure(figsize =(10, 7))\n",
    "plt.pie( new_chart, labels = data)\n",
    " \n",
    "plt.title('Medals Won')\n",
    "plt.show()"
   ]
  },
  {
   "cell_type": "code",
   "execution_count": 143,
   "id": "1ff763a1",
   "metadata": {},
   "outputs": [
    {
     "data": {
      "text/plain": [
       "0                                                     male\n",
       "1                                               malefemale\n",
       "2                                           malefemalemale\n",
       "3                                       malefemalemalemale\n",
       "4                                   malefemalemalemalemale\n",
       "                               ...                        \n",
       "11533    malefemalemalemalemalemalemalemalefemalefemale...\n",
       "11534    malefemalemalemalemalemalemalemalefemalefemale...\n",
       "11535    malefemalemalemalemalemalemalemalefemalefemale...\n",
       "11536    malefemalemalemalemalemalemalemalefemalefemale...\n",
       "11537    malefemalemalemalemalemalemalemalefemalefemale...\n",
       "Name: sex, Length: 11538, dtype: object"
      ]
     },
     "execution_count": 143,
     "metadata": {},
     "output_type": "execute_result"
    }
   ],
   "source": [
    "df['sex'].cumsum()"
   ]
  },
  {
   "cell_type": "code",
   "execution_count": 144,
   "id": "b0f5074e",
   "metadata": {},
   "outputs": [
    {
     "data": {
      "text/plain": [
       "array(['male', 'female'], dtype=object)"
      ]
     },
     "execution_count": 144,
     "metadata": {},
     "output_type": "execute_result"
    }
   ],
   "source": [
    "df['sex'].unique()"
   ]
  },
  {
   "cell_type": "code",
   "execution_count": null,
   "id": "5d9f0ed8",
   "metadata": {},
   "outputs": [],
   "source": []
  },
  {
   "cell_type": "code",
   "execution_count": 145,
   "id": "88c28ede",
   "metadata": {
    "scrolled": true
   },
   "outputs": [
    {
     "data": {
      "image/png": "[encoded data removed]",
      "text/plain": [
       "<Figure size 432x288 with 2 Axes>"
      ]
     },
     "metadata": {
      "needs_background": "light"
     },
     "output_type": "display_data"
    }
   ],
   "source": [
    "df['height'] = df['height'].astype(float)\n",
    "ax2 = df.plot.scatter(x='height',\n",
    "                      y='weight',\n",
    "                      c='height',\n",
    "                      colormap='viridis')"
   ]
  },
  {
   "cell_type": "code",
   "execution_count": 146,
   "id": "bd8aae6f",
   "metadata": {},
   "outputs": [
    {
     "data": {
      "text/plain": [
       "id               11538\n",
       "nationality      11538\n",
       "sex              11538\n",
       "date_of_birth    11538\n",
       "height           11208\n",
       "weight           10879\n",
       "sport            11538\n",
       "gold             11538\n",
       "silver           11538\n",
       "bronze           11538\n",
       "dtype: int64"
      ]
     },
     "execution_count": 146,
     "metadata": {},
     "output_type": "execute_result"
    }
   ],
   "source": [
    "df.count([2]=='sex')"
   ]
  },
  {
   "cell_type": "code",
   "execution_count": 147,
   "id": "088a04d2",
   "metadata": {},
   "outputs": [
    {
     "data": {
      "text/plain": [
       "male      6333\n",
       "female    5205\n",
       "Name: sex, dtype: int64"
      ]
     },
     "execution_count": 147,
     "metadata": {},
     "output_type": "execute_result"
    }
   ],
   "source": [
    "df.sex.value_counts()"
   ]
  },
  {
   "cell_type": "code",
   "execution_count": 148,
   "id": "e0e03eb3",
   "metadata": {},
   "outputs": [
    {
     "data": {
      "text/plain": [
       "array(['ESP', 'KOR', 'CAN', 'MDA', 'NZL', 'AUS', 'USA', 'ETH', 'BRN',\n",
       "       'IOA', 'GBR', 'UZB', 'RSA', 'EGY', 'MAR', 'QAT', 'SUD', 'ALG',\n",
       "       'DEN', 'NED', 'DJI', 'SEN', 'CMR', 'ITA', 'NIG', 'SWE', 'GHA',\n",
       "       'AFG', 'AZE', 'KSA', 'BAN', 'NGR', 'RUS', 'IND', 'HUN', 'KAZ',\n",
       "       'BDI', 'ERI', 'POL', 'BRA', 'GEO', 'CZE', 'SEY', 'GAM', 'LTU',\n",
       "       'IRI', 'ROU', 'CUB', 'SLO', 'BAH', 'ARG', 'PUR', 'FRA', 'RWA',\n",
       "       'TOG', 'MDV', 'TUN', 'ISR', 'LAT', 'JOR', 'MAS', 'LIB', 'LBA',\n",
       "       'PLE', 'IRQ', 'TUR', 'VEN', 'JPN', 'TPE', 'KGZ', 'CHN', 'MEX',\n",
       "       'GRE', 'IRL', 'JAM', 'SUI', 'BAR', 'HON', 'ANG', 'GER', 'COL',\n",
       "       'URU', 'MNE', 'SRB', 'BUL', 'FIN', 'UKR', 'BLR', 'SMR', 'COK',\n",
       "       'SAM', 'AUT', 'BEL', 'KEN', 'SVK', 'POR', 'ECU', 'UAE', 'NAM',\n",
       "       'GUY', 'EST', 'SKN', 'ARU', 'PAN', 'PER', 'TAN', 'FIJ', 'GUI',\n",
       "       'NOR', 'ARM', 'THA', 'SIN', 'TKM', 'CRO', 'BIH', 'TGA', 'MAW',\n",
       "       'DOM', 'GUA', 'MKD', 'TJK', 'CYP', 'CHI', 'MLT', 'ZIM', 'TTO',\n",
       "       'CRC', 'BOL', 'BUR', 'ISL', 'HAI', 'ROT', 'MGL', 'MAD', 'GAB',\n",
       "       'SRI', 'LAO', 'MRI', 'PAR', 'IVB', 'GBS', 'TLS', 'MLI', 'SYR',\n",
       "       'BOT', 'CHA', 'OMA', 'COD', 'CIV', 'GEQ', 'UGA', 'GUM', 'ASA',\n",
       "       'ZAM', 'VAN', 'GRN', 'BIZ', 'VIN', 'MON', 'ALB', 'STP', 'SLE',\n",
       "       'BER', 'HKG', 'ISV', 'CGO', 'ANT', 'BEN', 'LUX', 'PHI', 'CAF',\n",
       "       'PRK', 'LIE', 'MHL', 'NCA', 'KIR', 'CPV', 'INA', 'FSM', 'COM',\n",
       "       'PLW', 'MYA', 'NRU', 'LBR', 'ESA', 'AND', 'TUV', 'SUR', 'CAY',\n",
       "       'NEP', 'PAK', 'SSD', 'MTN', 'VIE', 'MOZ', 'LES', 'LCA', 'BRU',\n",
       "       'SOL', 'BHU', 'CAM', 'KOS', 'SOM', 'PNG', 'YEM', 'SWZ', 'DMA'],\n",
       "      dtype=object)"
      ]
     },
     "execution_count": 148,
     "metadata": {},
     "output_type": "execute_result"
    }
   ],
   "source": [
    "df['nationality'].unique()"
   ]
  },
  {
   "cell_type": "code",
   "execution_count": 149,
   "id": "99768fe0",
   "metadata": {},
   "outputs": [],
   "source": [
    "nations =df['nationality'].unique()"
   ]
  },
  {
   "cell_type": "code",
   "execution_count": 152,
   "id": "1f13596c",
   "metadata": {},
   "outputs": [],
   "source": [
    "# for i in nations:\n",
    "#     df = df==i\n",
    "\n",
    "#     fig,ax=plt.subplots(figsize=(5,5))\n",
    "#     plt.title('Around the World')\n",
    "#     df.groupby('nationality').size().plot(kind='pie',autopct=label_function, ax=ax)"
   ]
  },
  {
   "cell_type": "markdown",
   "id": "0c22e305",
   "metadata": {},
   "source": [
    "the pie chart above works, however it pulls up A LOT of data, and gives a warining about using too much space. "
   ]
  },
  {
   "cell_type": "code",
   "execution_count": 151,
   "id": "0f070eeb",
   "metadata": {},
   "outputs": [
    {
     "data": {
      "image/png": "[encoded data removed]",
      "text/plain": [
       "<Figure size 432x288 with 1 Axes>"
      ]
     },
     "metadata": {
      "needs_background": "light"
     },
     "output_type": "display_data"
    }
   ],
   "source": [
    "df = pd.DataFrame({'people':[ 'Male', 'Female'], 'val':[6333, 5205]})\n",
    "ax = df.plot.bar(x='people', y='val', rot=0)"
   ]
  },
  {
   "cell_type": "code",
   "execution_count": null,
   "id": "2f4b098b",
   "metadata": {},
   "outputs": [],
   "source": []
  },
  {
   "cell_type": "code",
   "execution_count": null,
   "id": "7076e3ff",
   "metadata": {},
   "outputs": [],
   "source": []
  },
  {
   "cell_type": "code",
   "execution_count": null,
   "id": "dc55345e",
   "metadata": {},
   "outputs": [],
   "source": []
  }
 ],
 "metadata": {
  "kernelspec": {
   "display_name": "Python 3 (ipykernel)",
   "language": "python",
   "name": "python3"
  },
  "language_info": {
   "codemirror_mode": {
    "name": "ipython",
    "version": 3
   },
   "file_extension": ".py",
   "mimetype": "text/x-python",
   "name": "python",
   "nbconvert_exporter": "python",
   "pygments_lexer": "ipython3",
   "version": "3.10.2"
  }
 },
 "nbformat": 4,
 "nbformat_minor": 5
}
